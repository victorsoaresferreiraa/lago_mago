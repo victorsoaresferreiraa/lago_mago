{
 "cells": [
  {
   "cell_type": "code",
   "execution_count": 1,
   "id": "5a9c3d97",
   "metadata": {},
   "outputs": [
    {
     "name": "stdout",
     "output_type": "stream",
     "text": [
      "SparkSession criada com sucesso: 3.5.0\n"
     ]
    }
   ],
   "source": [
    "from pyspark.sql import SparkSession\n",
    "\n",
    "spark = SparkSession.builder \\\n",
    "    .appName(\"DeltaExample\") \\\n",
    "    .master(\"spark://spark-master:7077\") \\\n",
    "    .config(\"spark.sql.extensions\", \"io.delta.sql.DeltaSparkSessionExtension\") \\\n",
    "    .config(\"spark.sql.catalog.spark_catalog\", \"org.apache.spark.sql.delta.catalog.DeltaCatalog\") \\\n",
    "    .getOrCreate()\n",
    "\n",
    "print(\"SparkSession criada com sucesso:\", spark.version)\n"
   ]
  },
  {
   "cell_type": "code",
   "execution_count": null,
   "id": "11f6fd73-aa96-498f-b56e-d44a3b65638b",
   "metadata": {},
   "outputs": [],
   "source": [
    "path = \"/home/jovyan/work/data/raw/customers.json\"\n",
    "print(path)\n",
    "\n"
   ]
  },
  {
   "cell_type": "code",
   "execution_count": 4,
   "id": "73f8838e",
   "metadata": {},
   "outputs": [
    {
     "name": "stdout",
     "output_type": "stream",
     "text": [
      "+-------------------------------------------------------------------------------------------------------------------------------------------+------+\n",
      "|fields                                                                                                                                     |type  |\n",
      "+-------------------------------------------------------------------------------------------------------------------------------------------+------+\n",
      "|[{idCustomer, true, string}, {PointsCustomer, true, long}, {flEmail, true, long}, {OP, true, string}, {modified_date, true, timestamp_ntz}]|struct|\n",
      "+-------------------------------------------------------------------------------------------------------------------------------------------+------+\n",
      "\n"
     ]
    }
   ],
   "source": [
    "df = spark.read.json(\"/home/jovyan/work/data/raw/customers.json\", multiLine=True)\n",
    "df.show(5, truncate=False)\n",
    "\n",
    "\n"
   ]
  },
  {
   "cell_type": "code",
   "execution_count": 6,
   "id": "f2863051-50e8-4593-bbe2-e445f08ba2ac",
   "metadata": {},
   "outputs": [
    {
     "ename": "SyntaxError",
     "evalue": "invalid syntax (974614288.py, line 3)",
     "output_type": "error",
     "traceback": [
      "\u001b[0;36m  Cell \u001b[0;32mIn[6], line 3\u001b[0;36m\u001b[0m\n\u001b[0;31m    SELECT * FROM fields\u001b[0m\n\u001b[0m                  ^\u001b[0m\n\u001b[0;31mSyntaxError\u001b[0m\u001b[0;31m:\u001b[0m invalid syntax\n"
     ]
    }
   ],
   "source": [
    "%sql \n",
    "\n",
    "SELECT * FROM fields\n"
   ]
  },
  {
   "cell_type": "code",
   "execution_count": null,
   "id": "918d012c-b200-40bb-814d-cc18e1393ab0",
   "metadata": {},
   "outputs": [],
   "source": [
    "with open(\"/home/jovyan/work/data/raw/StressLevelDataset.csv\") as f:\n",
    "    print(f.readline())\n"
   ]
  },
  {
   "cell_type": "code",
   "execution_count": null,
   "id": "106b1f20-f83c-49da-8ca8-cb2ab648f875",
   "metadata": {},
   "outputs": [],
   "source": [
    "spark.sql(\"CREATE DATABASE IF NOT EXISTS bronze\")\n"
   ]
  },
  {
   "cell_type": "code",
   "execution_count": null,
   "id": "cb300696-dc28-498a-8a3b-e89da046f518",
   "metadata": {},
   "outputs": [],
   "source": [
    "df_full.coalesce(1).write.format(\"delta\").saveAsTable(\"bronze.upsell.customers\")\n"
   ]
  },
  {
   "cell_type": "code",
   "execution_count": null,
   "id": "266b2ef8-a7d9-4fc9-a45c-8ebdc505f76b",
   "metadata": {},
   "outputs": [],
   "source": []
  }
 ],
 "metadata": {
  "kernelspec": {
   "display_name": "lago-dados-py3.10",
   "language": "python",
   "name": "python3"
  },
  "language_info": {
   "codemirror_mode": {
    "name": "ipython",
    "version": 3
   },
   "file_extension": ".py",
   "mimetype": "text/x-python",
   "name": "python",
   "nbconvert_exporter": "python",
   "pygments_lexer": "ipython3",
   "version": "3.10.0"
  }
 },
 "nbformat": 4,
 "nbformat_minor": 5
}
