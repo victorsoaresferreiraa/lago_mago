{
 "cells": [
  {
   "cell_type": "code",
   "execution_count": 1,
   "id": "5a9c3d97",
   "metadata": {},
   "outputs": [
    {
     "name": "stdout",
     "output_type": "stream",
     "text": [
      "SparkSession criada com sucesso: 3.5.0\n"
     ]
    }
   ],
   "source": [
    "from pyspark.sql import SparkSession\n",
    "\n",
    "spark = SparkSession.builder \\\n",
    "    .appName(\"DeltaExample\") \\\n",
    "    .master(\"spark://spark-master:7077\") \\\n",
    "    .config(\"spark.sql.extensions\", \"io.delta.sql.DeltaSparkSessionExtension\") \\\n",
    "    .config(\"spark.sql.catalog.spark_catalog\", \"org.apache.spark.sql.delta.catalog.DeltaCatalog\") \\\n",
    "    .getOrCreate()\n",
    "\n",
    "print(\"SparkSession criada com sucesso:\", spark.version)\n"
   ]
  },
  {
   "cell_type": "code",
   "execution_count": null,
   "id": "73f8838e",
   "metadata": {},
   "outputs": [],
   "source": [
    "\n",
    "df_full = spark.read.format(\"parquet\").load(\"/home/jovyan/work/data/raw/titanic.parquet\")\n",
    "\n",
    "df_full.show()\n"
   ]
  },
  {
   "cell_type": "code",
   "execution_count": null,
   "id": "106b1f20-f83c-49da-8ca8-cb2ab648f875",
   "metadata": {},
   "outputs": [],
   "source": [
    "spark.sql(\"CREATE DATABASE IF NOT EXISTS bronze\")\n"
   ]
  },
  {
   "cell_type": "code",
   "execution_count": null,
   "id": "cb300696-dc28-498a-8a3b-e89da046f518",
   "metadata": {},
   "outputs": [],
   "source": [
    "df_full.coalesce(1).write.format(\"delta\").saveAsTable(\"bronze.upsell.customers\")\n"
   ]
  },
  {
   "cell_type": "code",
   "execution_count": null,
   "id": "266b2ef8-a7d9-4fc9-a45c-8ebdc505f76b",
   "metadata": {},
   "outputs": [],
   "source": []
  }
 ],
 "metadata": {
  "kernelspec": {
   "display_name": "Python 3 (ipykernel)",
   "language": "python",
   "name": "python3"
  },
  "language_info": {
   "codemirror_mode": {
    "name": "ipython",
    "version": 3
   },
   "file_extension": ".py",
   "mimetype": "text/x-python",
   "name": "python",
   "nbconvert_exporter": "python",
   "pygments_lexer": "ipython3",
   "version": "3.11.6"
  }
 },
 "nbformat": 4,
 "nbformat_minor": 5
}
